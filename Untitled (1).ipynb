{
 "cells": [
  {
   "cell_type": "code",
   "execution_count": 81,
   "id": "0e1d8fc4",
   "metadata": {},
   "outputs": [
    {
     "data": {
      "text/html": [
       "<div>\n",
       "<style scoped>\n",
       "    .dataframe tbody tr th:only-of-type {\n",
       "        vertical-align: middle;\n",
       "    }\n",
       "\n",
       "    .dataframe tbody tr th {\n",
       "        vertical-align: top;\n",
       "    }\n",
       "\n",
       "    .dataframe thead th {\n",
       "        text-align: right;\n",
       "    }\n",
       "</style>\n",
       "<table border=\"1\" class=\"dataframe\">\n",
       "  <thead>\n",
       "    <tr style=\"text-align: right;\">\n",
       "      <th></th>\n",
       "      <th>id</th>\n",
       "      <th>reason</th>\n",
       "      <th>aggregate__id</th>\n",
       "      <th>aggregate__tag</th>\n",
       "      <th>aggregate__currency</th>\n",
       "      <th>aggregate__benchmark__id</th>\n",
       "      <th>aggregate__benchmark__currency</th>\n",
       "      <th>aggregate__benchmark__components__id</th>\n",
       "      <th>aggregate__benchmark__components__identifiers__cusip</th>\n",
       "      <th>aggregate__benchmark__components__identifiers__sedol</th>\n",
       "      <th>...</th>\n",
       "      <th>buyList__portfolioId</th>\n",
       "      <th>buyList__positionId</th>\n",
       "      <th>buyList__identifiers__cusip</th>\n",
       "      <th>buyList__identifiers__sedol</th>\n",
       "      <th>buyList__identifiers__isin</th>\n",
       "      <th>buyList__identifiers__ric</th>\n",
       "      <th>buyList__identifiers__clientId</th>\n",
       "      <th>buyList__price</th>\n",
       "      <th>sleeveTags</th>\n",
       "      <th>simulatedPerformanceUserInputs__feeOverride</th>\n",
       "    </tr>\n",
       "  </thead>\n",
       "  <tbody>\n",
       "    <tr>\n",
       "      <th>0</th>\n",
       "      <td>efbf7288-30ba-4dd1-8705-da64c8ebe460</td>\n",
       "      <td>NaN</td>\n",
       "      <td>HH-1</td>\n",
       "      <td>HOUSEHOLD_ID</td>\n",
       "      <td>USD</td>\n",
       "      <td>BENCH-1</td>\n",
       "      <td>USD</td>\n",
       "      <td>SP-500</td>\n",
       "      <td>67066G104</td>\n",
       "      <td>2379504.0</td>\n",
       "      <td>...</td>\n",
       "      <td>ACCT-1</td>\n",
       "      <td>dd1ea48f-3430-4660-9ce4-adf9be1d4816</td>\n",
       "      <td>67066G104</td>\n",
       "      <td>2379504.0</td>\n",
       "      <td>US67066G1040</td>\n",
       "      <td>NVDA.OQ</td>\n",
       "      <td>XXXX</td>\n",
       "      <td>522.72</td>\n",
       "      <td>SMA_ID</td>\n",
       "      <td>0.01</td>\n",
       "    </tr>\n",
       "  </tbody>\n",
       "</table>\n",
       "<p>1 rows × 109 columns</p>\n",
       "</div>"
      ],
      "text/plain": [
       "                                     id  reason aggregate__id aggregate__tag  \\\n",
       "0  efbf7288-30ba-4dd1-8705-da64c8ebe460     NaN          HH-1   HOUSEHOLD_ID   \n",
       "\n",
       "  aggregate__currency aggregate__benchmark__id aggregate__benchmark__currency  \\\n",
       "0                 USD                  BENCH-1                            USD   \n",
       "\n",
       "  aggregate__benchmark__components__id  \\\n",
       "0                               SP-500   \n",
       "\n",
       "  aggregate__benchmark__components__identifiers__cusip  \\\n",
       "0                                          67066G104     \n",
       "\n",
       "   aggregate__benchmark__components__identifiers__sedol  ...  \\\n",
       "0                                          2379504.0     ...   \n",
       "\n",
       "  buyList__portfolioId                   buyList__positionId  \\\n",
       "0               ACCT-1  dd1ea48f-3430-4660-9ce4-adf9be1d4816   \n",
       "\n",
       "  buyList__identifiers__cusip  buyList__identifiers__sedol  \\\n",
       "0                   67066G104                    2379504.0   \n",
       "\n",
       "  buyList__identifiers__isin buyList__identifiers__ric  \\\n",
       "0               US67066G1040                   NVDA.OQ   \n",
       "\n",
       "  buyList__identifiers__clientId buyList__price sleeveTags  \\\n",
       "0                           XXXX         522.72     SMA_ID   \n",
       "\n",
       "  simulatedPerformanceUserInputs__feeOverride  \n",
       "0                                        0.01  \n",
       "\n",
       "[1 rows x 109 columns]"
      ]
     },
     "execution_count": 81,
     "metadata": {},
     "output_type": "execute_result"
    }
   ],
   "source": [
    "import pandas as pd\n",
    "df = pd.read_csv(\"result (1).csv\")\n",
    "df = df.iloc[:1,:]\n",
    "df"
   ]
  },
  {
   "cell_type": "code",
   "execution_count": 82,
   "id": "16f4c4e4",
   "metadata": {},
   "outputs": [],
   "source": [
    "res = json.dumps(json.loads(df.to_json(orient=\"records\")),indent = 4)"
   ]
  },
  {
   "cell_type": "code",
   "execution_count": 6,
   "id": "a8bf64b8",
   "metadata": {},
   "outputs": [],
   "source": [
    "import json"
   ]
  },
  {
   "cell_type": "code",
   "execution_count": 14,
   "id": "e56c0c99",
   "metadata": {},
   "outputs": [],
   "source": [
    "# res"
   ]
  },
  {
   "cell_type": "code",
   "execution_count": 83,
   "id": "b025c19c",
   "metadata": {},
   "outputs": [],
   "source": [
    "columns = list(df.columns)"
   ]
  },
  {
   "cell_type": "code",
   "execution_count": 84,
   "id": "1f4c1a74",
   "metadata": {},
   "outputs": [
    {
     "data": {
      "text/plain": [
       "list"
      ]
     },
     "execution_count": 84,
     "metadata": {},
     "output_type": "execute_result"
    }
   ],
   "source": [
    "type(columns)"
   ]
  },
  {
   "cell_type": "code",
   "execution_count": 85,
   "id": "144f29d0",
   "metadata": {},
   "outputs": [
    {
     "data": {
      "text/plain": [
       "['id',\n",
       " 'reason',\n",
       " 'aggregate__id',\n",
       " 'aggregate__tag',\n",
       " 'aggregate__currency',\n",
       " 'aggregate__benchmark__id',\n",
       " 'aggregate__benchmark__currency',\n",
       " 'aggregate__benchmark__components__id',\n",
       " 'aggregate__benchmark__components__identifiers__cusip',\n",
       " 'aggregate__benchmark__components__identifiers__sedol',\n",
       " 'aggregate__benchmark__components__identifiers__isin',\n",
       " 'aggregate__benchmark__components__identifiers__ric',\n",
       " 'aggregate__benchmark__components__identifiers__clientId',\n",
       " 'aggregate__benchmark__components__weight',\n",
       " 'aggregate__benchmarkRef__id',\n",
       " 'aggregate__benchmarkRef__tag',\n",
       " 'aggregate__supplement__sleeveInfo__tag',\n",
       " 'aggregate__supplement__sleeveInfo__value',\n",
       " 'aggregate__supplement__sleeveInfo__benchmark__id',\n",
       " 'aggregate__supplement__sleeveInfo__benchmark__currency',\n",
       " 'aggregate__supplement__sleeveInfo__benchmark__components__id',\n",
       " 'aggregate__supplement__sleeveInfo__benchmark__components__identifiers__cusip',\n",
       " 'aggregate__supplement__sleeveInfo__benchmark__components__identifiers__sedol',\n",
       " 'aggregate__supplement__sleeveInfo__benchmark__components__identifiers__isin',\n",
       " 'aggregate__supplement__sleeveInfo__benchmark__components__identifiers__ric',\n",
       " 'aggregate__supplement__sleeveInfo__benchmark__components__identifiers__clientId',\n",
       " 'aggregate__supplement__sleeveInfo__benchmark__components__weight',\n",
       " 'aggregate__supplement__sleeveInfo__benchmarkRef__id',\n",
       " 'aggregate__supplement__sleeveInfo__benchmarkRef__tag',\n",
       " 'aggregate__supplement__sleeveInfo__fees__category',\n",
       " 'aggregate__supplement__sleeveInfo__fees__subcategory',\n",
       " 'aggregate__supplement__sleeveInfo__fees__startYear',\n",
       " 'aggregate__supplement__sleeveInfo__fees__endYear',\n",
       " 'aggregate__supplement__sleeveInfo__fees__minimumPositionMarketValue',\n",
       " 'aggregate__supplement__sleeveInfo__fees__maximumPositionMarketValue',\n",
       " 'aggregate__supplement__sleeveInfo__fees__amount',\n",
       " 'aggregate__supplement__sleeveInfo__fees__paymentMethod',\n",
       " 'aggregate__supplement__sleeveInfo__fees__percentMethod',\n",
       " 'aggregate__supplement__sleeveInfo__fees__eventType',\n",
       " 'aggregate__portfolios__id',\n",
       " 'aggregate__portfolios__currency',\n",
       " 'aggregate__portfolios__positions__id',\n",
       " 'aggregate__portfolios__positions__identifiers__cusip',\n",
       " 'aggregate__portfolios__positions__identifiers__sedol',\n",
       " 'aggregate__portfolios__positions__identifiers__isin',\n",
       " 'aggregate__portfolios__positions__identifiers__ric',\n",
       " 'aggregate__portfolios__positions__identifiers__clientId',\n",
       " 'aggregate__portfolios__positions__proxyIdentifiers__cusip',\n",
       " 'aggregate__portfolios__positions__proxyIdentifiers__sedol',\n",
       " 'aggregate__portfolios__positions__proxyIdentifiers__isin',\n",
       " 'aggregate__portfolios__positions__proxyIdentifiers__ric',\n",
       " 'aggregate__portfolios__positions__proxyIdentifiers__clientId',\n",
       " 'aggregate__portfolios__positions__quantity',\n",
       " 'aggregate__portfolios__positions__marketValue',\n",
       " 'aggregate__portfolios__positions__notionalMarketValue',\n",
       " 'aggregate__portfolios__openLots__id',\n",
       " 'aggregate__portfolios__openLots__positionId',\n",
       " 'aggregate__portfolios__openLots__purchaseDate',\n",
       " 'aggregate__portfolios__openLots__quantity',\n",
       " 'aggregate__portfolios__openLots__costBasis',\n",
       " 'aggregate__portfolios__closedLots__identifiers__cusip',\n",
       " 'aggregate__portfolios__closedLots__identifiers__sedol',\n",
       " 'aggregate__portfolios__closedLots__identifiers__isin',\n",
       " 'aggregate__portfolios__closedLots__identifiers__ric',\n",
       " 'aggregate__portfolios__closedLots__identifiers__clientId',\n",
       " 'aggregate__portfolios__closedLots__purchaseDate',\n",
       " 'aggregate__portfolios__closedLots__closedDate',\n",
       " 'aggregate__portfolios__closedLots__realizedGainOrLoss',\n",
       " 'aggregate__portfolios__benchmark__id',\n",
       " 'aggregate__portfolios__benchmark__currency',\n",
       " 'aggregate__portfolios__benchmark__components__id',\n",
       " 'aggregate__portfolios__benchmark__components__identifiers__cusip',\n",
       " 'aggregate__portfolios__benchmark__components__identifiers__sedol',\n",
       " 'aggregate__portfolios__benchmark__components__identifiers__isin',\n",
       " 'aggregate__portfolios__benchmark__components__identifiers__ric',\n",
       " 'aggregate__portfolios__benchmark__components__identifiers__clientId',\n",
       " 'aggregate__portfolios__benchmark__components__weight',\n",
       " 'aggregate__portfolios__benchmarkRef__id',\n",
       " 'aggregate__portfolios__benchmarkRef__tag',\n",
       " 'aggregate__portfolios__supplement__sleeveInfo__tag',\n",
       " 'aggregate__portfolios__supplement__sleeveInfo__value',\n",
       " 'aggregate__portfolios__supplement__sleeveInfo__benchmark__id',\n",
       " 'aggregate__portfolios__supplement__sleeveInfo__benchmark__currency',\n",
       " 'aggregate__portfolios__supplement__sleeveInfo__benchmarkRef__id',\n",
       " 'aggregate__portfolios__supplement__sleeveInfo__benchmarkRef__tag',\n",
       " 'aggregate__portfolios__supplement__sleeveInfo__fees__category',\n",
       " 'aggregate__portfolios__supplement__sleeveInfo__fees__subcategory',\n",
       " 'aggregate__portfolios__supplement__sleeveInfo__fees__startYear',\n",
       " 'aggregate__portfolios__supplement__sleeveInfo__fees__endYear',\n",
       " 'aggregate__portfolios__supplement__sleeveInfo__fees__minimumPositionMarketValue',\n",
       " 'aggregate__portfolios__supplement__sleeveInfo__fees__maximumPositionMarketValue',\n",
       " 'aggregate__portfolios__supplement__sleeveInfo__fees__amount',\n",
       " 'aggregate__portfolios__supplement__sleeveInfo__fees__paymentMethod',\n",
       " 'aggregate__portfolios__supplement__sleeveInfo__fees__percentMethod',\n",
       " 'aggregate__portfolios__supplement__sleeveInfo__fees__eventType',\n",
       " 'aggregate__portfolios__origin',\n",
       " 'aggregate__origin',\n",
       " 'parameters__addCash',\n",
       " 'parameters__useBuyList',\n",
       " 'buyList__portfolioId',\n",
       " 'buyList__positionId',\n",
       " 'buyList__identifiers__cusip',\n",
       " 'buyList__identifiers__sedol',\n",
       " 'buyList__identifiers__isin',\n",
       " 'buyList__identifiers__ric',\n",
       " 'buyList__identifiers__clientId',\n",
       " 'buyList__price',\n",
       " 'sleeveTags',\n",
       " 'simulatedPerformanceUserInputs__feeOverride']"
      ]
     },
     "execution_count": 85,
     "metadata": {},
     "output_type": "execute_result"
    }
   ],
   "source": [
    "columns"
   ]
  },
  {
   "cell_type": "code",
   "execution_count": 86,
   "id": "707f0461",
   "metadata": {},
   "outputs": [
    {
     "name": "stdout",
     "output_type": "stream",
     "text": [
      "['id']\n",
      "['reason']\n",
      "['aggregate', 'id']\n",
      "['aggregate', 'tag']\n",
      "['aggregate', 'currency']\n",
      "['aggregate', 'benchmark', 'id']\n",
      "['aggregate', 'benchmark', 'currency']\n",
      "['aggregate', 'benchmark', 'components', 'id']\n",
      "['aggregate', 'benchmark', 'components', 'identifiers', 'cusip']\n",
      "['aggregate', 'benchmark', 'components', 'identifiers', 'sedol']\n",
      "['aggregate', 'benchmark', 'components', 'identifiers', 'isin']\n",
      "['aggregate', 'benchmark', 'components', 'identifiers', 'ric']\n",
      "['aggregate', 'benchmark', 'components', 'identifiers', 'clientId']\n",
      "['aggregate', 'benchmark', 'components', 'weight']\n",
      "['aggregate', 'benchmarkRef', 'id']\n",
      "['aggregate', 'benchmarkRef', 'tag']\n",
      "['aggregate', 'supplement', 'sleeveInfo', 'tag']\n",
      "['aggregate', 'supplement', 'sleeveInfo', 'value']\n",
      "['aggregate', 'supplement', 'sleeveInfo', 'benchmark', 'id']\n",
      "['aggregate', 'supplement', 'sleeveInfo', 'benchmark', 'currency']\n",
      "['aggregate', 'supplement', 'sleeveInfo', 'benchmark', 'components', 'id']\n",
      "['aggregate', 'supplement', 'sleeveInfo', 'benchmark', 'components', 'identifiers', 'cusip']\n",
      "['aggregate', 'supplement', 'sleeveInfo', 'benchmark', 'components', 'identifiers', 'sedol']\n",
      "['aggregate', 'supplement', 'sleeveInfo', 'benchmark', 'components', 'identifiers', 'isin']\n",
      "['aggregate', 'supplement', 'sleeveInfo', 'benchmark', 'components', 'identifiers', 'ric']\n",
      "['aggregate', 'supplement', 'sleeveInfo', 'benchmark', 'components', 'identifiers', 'clientId']\n",
      "['aggregate', 'supplement', 'sleeveInfo', 'benchmark', 'components', 'weight']\n",
      "['aggregate', 'supplement', 'sleeveInfo', 'benchmarkRef', 'id']\n",
      "['aggregate', 'supplement', 'sleeveInfo', 'benchmarkRef', 'tag']\n",
      "['aggregate', 'supplement', 'sleeveInfo', 'fees', 'category']\n",
      "['aggregate', 'supplement', 'sleeveInfo', 'fees', 'subcategory']\n",
      "['aggregate', 'supplement', 'sleeveInfo', 'fees', 'startYear']\n",
      "['aggregate', 'supplement', 'sleeveInfo', 'fees', 'endYear']\n",
      "['aggregate', 'supplement', 'sleeveInfo', 'fees', 'minimumPositionMarketValue']\n",
      "['aggregate', 'supplement', 'sleeveInfo', 'fees', 'maximumPositionMarketValue']\n",
      "['aggregate', 'supplement', 'sleeveInfo', 'fees', 'amount']\n",
      "['aggregate', 'supplement', 'sleeveInfo', 'fees', 'paymentMethod']\n",
      "['aggregate', 'supplement', 'sleeveInfo', 'fees', 'percentMethod']\n",
      "['aggregate', 'supplement', 'sleeveInfo', 'fees', 'eventType']\n",
      "['aggregate', 'portfolios', 'id']\n",
      "['aggregate', 'portfolios', 'currency']\n",
      "['aggregate', 'portfolios', 'positions', 'id']\n",
      "['aggregate', 'portfolios', 'positions', 'identifiers', 'cusip']\n",
      "['aggregate', 'portfolios', 'positions', 'identifiers', 'sedol']\n",
      "['aggregate', 'portfolios', 'positions', 'identifiers', 'isin']\n",
      "['aggregate', 'portfolios', 'positions', 'identifiers', 'ric']\n",
      "['aggregate', 'portfolios', 'positions', 'identifiers', 'clientId']\n",
      "['aggregate', 'portfolios', 'positions', 'proxyIdentifiers', 'cusip']\n",
      "['aggregate', 'portfolios', 'positions', 'proxyIdentifiers', 'sedol']\n",
      "['aggregate', 'portfolios', 'positions', 'proxyIdentifiers', 'isin']\n",
      "['aggregate', 'portfolios', 'positions', 'proxyIdentifiers', 'ric']\n",
      "['aggregate', 'portfolios', 'positions', 'proxyIdentifiers', 'clientId']\n",
      "['aggregate', 'portfolios', 'positions', 'quantity']\n",
      "['aggregate', 'portfolios', 'positions', 'marketValue']\n",
      "['aggregate', 'portfolios', 'positions', 'notionalMarketValue']\n",
      "['aggregate', 'portfolios', 'openLots', 'id']\n",
      "['aggregate', 'portfolios', 'openLots', 'positionId']\n",
      "['aggregate', 'portfolios', 'openLots', 'purchaseDate']\n",
      "['aggregate', 'portfolios', 'openLots', 'quantity']\n",
      "['aggregate', 'portfolios', 'openLots', 'costBasis']\n",
      "['aggregate', 'portfolios', 'closedLots', 'identifiers', 'cusip']\n",
      "['aggregate', 'portfolios', 'closedLots', 'identifiers', 'sedol']\n",
      "['aggregate', 'portfolios', 'closedLots', 'identifiers', 'isin']\n",
      "['aggregate', 'portfolios', 'closedLots', 'identifiers', 'ric']\n",
      "['aggregate', 'portfolios', 'closedLots', 'identifiers', 'clientId']\n",
      "['aggregate', 'portfolios', 'closedLots', 'purchaseDate']\n",
      "['aggregate', 'portfolios', 'closedLots', 'closedDate']\n",
      "['aggregate', 'portfolios', 'closedLots', 'realizedGainOrLoss']\n",
      "['aggregate', 'portfolios', 'benchmark', 'id']\n",
      "['aggregate', 'portfolios', 'benchmark', 'currency']\n",
      "['aggregate', 'portfolios', 'benchmark', 'components', 'id']\n",
      "['aggregate', 'portfolios', 'benchmark', 'components', 'identifiers', 'cusip']\n",
      "['aggregate', 'portfolios', 'benchmark', 'components', 'identifiers', 'sedol']\n",
      "['aggregate', 'portfolios', 'benchmark', 'components', 'identifiers', 'isin']\n",
      "['aggregate', 'portfolios', 'benchmark', 'components', 'identifiers', 'ric']\n",
      "['aggregate', 'portfolios', 'benchmark', 'components', 'identifiers', 'clientId']\n",
      "['aggregate', 'portfolios', 'benchmark', 'components', 'weight']\n",
      "['aggregate', 'portfolios', 'benchmarkRef', 'id']\n",
      "['aggregate', 'portfolios', 'benchmarkRef', 'tag']\n",
      "['aggregate', 'portfolios', 'supplement', 'sleeveInfo', 'tag']\n",
      "['aggregate', 'portfolios', 'supplement', 'sleeveInfo', 'value']\n",
      "['aggregate', 'portfolios', 'supplement', 'sleeveInfo', 'benchmark', 'id']\n",
      "['aggregate', 'portfolios', 'supplement', 'sleeveInfo', 'benchmark', 'currency']\n",
      "['aggregate', 'portfolios', 'supplement', 'sleeveInfo', 'benchmarkRef', 'id']\n",
      "['aggregate', 'portfolios', 'supplement', 'sleeveInfo', 'benchmarkRef', 'tag']\n",
      "['aggregate', 'portfolios', 'supplement', 'sleeveInfo', 'fees', 'category']\n",
      "['aggregate', 'portfolios', 'supplement', 'sleeveInfo', 'fees', 'subcategory']\n",
      "['aggregate', 'portfolios', 'supplement', 'sleeveInfo', 'fees', 'startYear']\n",
      "['aggregate', 'portfolios', 'supplement', 'sleeveInfo', 'fees', 'endYear']\n",
      "['aggregate', 'portfolios', 'supplement', 'sleeveInfo', 'fees', 'minimumPositionMarketValue']\n",
      "['aggregate', 'portfolios', 'supplement', 'sleeveInfo', 'fees', 'maximumPositionMarketValue']\n",
      "['aggregate', 'portfolios', 'supplement', 'sleeveInfo', 'fees', 'amount']\n",
      "['aggregate', 'portfolios', 'supplement', 'sleeveInfo', 'fees', 'paymentMethod']\n",
      "['aggregate', 'portfolios', 'supplement', 'sleeveInfo', 'fees', 'percentMethod']\n",
      "['aggregate', 'portfolios', 'supplement', 'sleeveInfo', 'fees', 'eventType']\n",
      "['aggregate', 'portfolios', 'origin']\n",
      "['aggregate', 'origin']\n",
      "['parameters', 'addCash']\n",
      "['parameters', 'useBuyList']\n",
      "['buyList', 'portfolioId']\n",
      "['buyList', 'positionId']\n",
      "['buyList', 'identifiers', 'cusip']\n",
      "['buyList', 'identifiers', 'sedol']\n",
      "['buyList', 'identifiers', 'isin']\n",
      "['buyList', 'identifiers', 'ric']\n",
      "['buyList', 'identifiers', 'clientId']\n",
      "['buyList', 'price']\n",
      "['sleeveTags']\n",
      "['simulatedPerformanceUserInputs', 'feeOverride']\n"
     ]
    }
   ],
   "source": [
    "for i,ele in enumerate(columns):\n",
    "#     print(type(ele))\n",
    "    temp = ele.split('__')\n",
    "    print(temp)"
   ]
  },
  {
   "cell_type": "code",
   "execution_count": 87,
   "id": "96d2a8f2",
   "metadata": {},
   "outputs": [
    {
     "name": "stdout",
     "output_type": "stream",
     "text": [
      "['aggregate']\n",
      "['aggregate', 'parameters']\n",
      "['aggregate', 'parameters', 'buyList']\n",
      "['aggregate', 'parameters', 'buyList', 'simulatedPerformanceUserInputs']\n"
     ]
    }
   ],
   "source": [
    "json_dict = {}\n",
    "key_validators = []\n",
    "for i,ele in enumerate(columns):\n",
    "    temp = ele.split('__')\n",
    "    if(len(temp)==1):\n",
    "        json_dict[ele] = 'yes'\n",
    "    else:\n",
    "#         json_dict[temp[0]]\n",
    "        if temp[0] not in key_validators:\n",
    "            key_validators.append(temp[0])\n",
    "            print(key_validators)\n",
    "            json_dict[temp[0]] = [{temp[1]: 'yes'}]\n",
    "        else:\n",
    "#             json_dict[temp[0]].append(json_dict[temp[0]][0].update({temp[1] : 'yes'}))\n",
    "            json_dict[temp[0]][0].update({temp[1] : 'yes'})\n",
    "\n",
    "            \n",
    "#         key_validators.append(temp[0])\n",
    "#         if(temp[0]==key_validator):\n",
    "#             #do the task\n",
    "#         else:\n",
    "            \n",
    "        \n",
    "        \n",
    "        \n",
    "        \n",
    "#             json_dict[temp[0]] = helper_array\n",
    "#         print(json_dict.keys())\n",
    "#         if(temp[0] in json_dict.keys()): \n",
    "#             for split_index in range(1,len(temp)):\n",
    "#                 nest_dict = {}\n",
    "#                 nest_dict[temp[split_index]]='temp'\n",
    "#         helper_array.append(nest_dict)"
   ]
  },
  {
   "cell_type": "code",
   "execution_count": 88,
   "id": "12c24e75",
   "metadata": {},
   "outputs": [
    {
     "data": {
      "text/plain": [
       "{'id': 'yes',\n",
       " 'reason': 'yes',\n",
       " 'aggregate': [{'id': 'yes',\n",
       "   'tag': 'yes',\n",
       "   'currency': 'yes',\n",
       "   'benchmark': 'yes',\n",
       "   'benchmarkRef': 'yes',\n",
       "   'supplement': 'yes',\n",
       "   'portfolios': 'yes',\n",
       "   'origin': 'yes'}],\n",
       " 'parameters': [{'addCash': 'yes', 'useBuyList': 'yes'}],\n",
       " 'buyList': [{'portfolioId': 'yes',\n",
       "   'positionId': 'yes',\n",
       "   'identifiers': 'yes',\n",
       "   'price': 'yes'}],\n",
       " 'sleeveTags': 'yes',\n",
       " 'simulatedPerformanceUserInputs': [{'feeOverride': 'yes'}]}"
      ]
     },
     "execution_count": 88,
     "metadata": {},
     "output_type": "execute_result"
    }
   ],
   "source": [
    "json_dict"
   ]
  },
  {
   "cell_type": "code",
   "execution_count": 92,
   "id": "7a3cdf2f",
   "metadata": {},
   "outputs": [],
   "source": [
    "def recursive(temp):\n",
    "#     json_dict = {}\n",
    "#     key_validators = []\n",
    "#     for i,ele in enumerate(columns):\n",
    "#         temp = ele.split('__')\n",
    "        if(len(temp)==1):\n",
    "            json_dict[ele] = 'yes'\n",
    "        else:\n",
    "            if temp[0] not in key_validators:\n",
    "                key_validators.append(temp[0])\n",
    "                json_dict[temp[0]] = [{temp[1]: 'yes'}]\n",
    "                json_dict = json_dict[temp[0]]\n",
    "            else:\n",
    "                json_dict[0].update({temp[1] : 'yes'})"
   ]
  },
  {
   "cell_type": "code",
   "execution_count": 89,
   "id": "54ec5d08",
   "metadata": {},
   "outputs": [
    {
     "name": "stdout",
     "output_type": "stream",
     "text": [
      "['id']\n",
      "['reason']\n",
      "['aggregate', 'id']\n",
      "['aggregate', 'tag']\n",
      "['aggregate', 'currency']\n",
      "['aggregate', 'benchmark', 'id']\n",
      "['aggregate', 'benchmark', 'currency']\n",
      "['aggregate', 'benchmark', 'components', 'id']\n",
      "['aggregate', 'benchmark', 'components', 'identifiers', 'cusip']\n",
      "['aggregate', 'benchmark', 'components', 'identifiers', 'sedol']\n",
      "['aggregate', 'benchmark', 'components', 'identifiers', 'isin']\n",
      "['aggregate', 'benchmark', 'components', 'identifiers', 'ric']\n",
      "['aggregate', 'benchmark', 'components', 'identifiers', 'clientId']\n",
      "['aggregate', 'benchmark', 'components', 'weight']\n",
      "['aggregate', 'benchmarkRef', 'id']\n",
      "['aggregate', 'benchmarkRef', 'tag']\n",
      "['aggregate', 'supplement', 'sleeveInfo', 'tag']\n",
      "['aggregate', 'supplement', 'sleeveInfo', 'value']\n",
      "['aggregate', 'supplement', 'sleeveInfo', 'benchmark', 'id']\n",
      "['aggregate', 'supplement', 'sleeveInfo', 'benchmark', 'currency']\n",
      "['aggregate', 'supplement', 'sleeveInfo', 'benchmark', 'components', 'id']\n",
      "['aggregate', 'supplement', 'sleeveInfo', 'benchmark', 'components', 'identifiers', 'cusip']\n",
      "['aggregate', 'supplement', 'sleeveInfo', 'benchmark', 'components', 'identifiers', 'sedol']\n",
      "['aggregate', 'supplement', 'sleeveInfo', 'benchmark', 'components', 'identifiers', 'isin']\n",
      "['aggregate', 'supplement', 'sleeveInfo', 'benchmark', 'components', 'identifiers', 'ric']\n",
      "['aggregate', 'supplement', 'sleeveInfo', 'benchmark', 'components', 'identifiers', 'clientId']\n",
      "['aggregate', 'supplement', 'sleeveInfo', 'benchmark', 'components', 'weight']\n",
      "['aggregate', 'supplement', 'sleeveInfo', 'benchmarkRef', 'id']\n",
      "['aggregate', 'supplement', 'sleeveInfo', 'benchmarkRef', 'tag']\n",
      "['aggregate', 'supplement', 'sleeveInfo', 'fees', 'category']\n",
      "['aggregate', 'supplement', 'sleeveInfo', 'fees', 'subcategory']\n",
      "['aggregate', 'supplement', 'sleeveInfo', 'fees', 'startYear']\n",
      "['aggregate', 'supplement', 'sleeveInfo', 'fees', 'endYear']\n",
      "['aggregate', 'supplement', 'sleeveInfo', 'fees', 'minimumPositionMarketValue']\n",
      "['aggregate', 'supplement', 'sleeveInfo', 'fees', 'maximumPositionMarketValue']\n",
      "['aggregate', 'supplement', 'sleeveInfo', 'fees', 'amount']\n",
      "['aggregate', 'supplement', 'sleeveInfo', 'fees', 'paymentMethod']\n",
      "['aggregate', 'supplement', 'sleeveInfo', 'fees', 'percentMethod']\n",
      "['aggregate', 'supplement', 'sleeveInfo', 'fees', 'eventType']\n",
      "['aggregate', 'portfolios', 'id']\n",
      "['aggregate', 'portfolios', 'currency']\n",
      "['aggregate', 'portfolios', 'positions', 'id']\n",
      "['aggregate', 'portfolios', 'positions', 'identifiers', 'cusip']\n",
      "['aggregate', 'portfolios', 'positions', 'identifiers', 'sedol']\n",
      "['aggregate', 'portfolios', 'positions', 'identifiers', 'isin']\n",
      "['aggregate', 'portfolios', 'positions', 'identifiers', 'ric']\n",
      "['aggregate', 'portfolios', 'positions', 'identifiers', 'clientId']\n",
      "['aggregate', 'portfolios', 'positions', 'proxyIdentifiers', 'cusip']\n",
      "['aggregate', 'portfolios', 'positions', 'proxyIdentifiers', 'sedol']\n",
      "['aggregate', 'portfolios', 'positions', 'proxyIdentifiers', 'isin']\n",
      "['aggregate', 'portfolios', 'positions', 'proxyIdentifiers', 'ric']\n",
      "['aggregate', 'portfolios', 'positions', 'proxyIdentifiers', 'clientId']\n",
      "['aggregate', 'portfolios', 'positions', 'quantity']\n",
      "['aggregate', 'portfolios', 'positions', 'marketValue']\n",
      "['aggregate', 'portfolios', 'positions', 'notionalMarketValue']\n",
      "['aggregate', 'portfolios', 'openLots', 'id']\n",
      "['aggregate', 'portfolios', 'openLots', 'positionId']\n",
      "['aggregate', 'portfolios', 'openLots', 'purchaseDate']\n",
      "['aggregate', 'portfolios', 'openLots', 'quantity']\n",
      "['aggregate', 'portfolios', 'openLots', 'costBasis']\n",
      "['aggregate', 'portfolios', 'closedLots', 'identifiers', 'cusip']\n",
      "['aggregate', 'portfolios', 'closedLots', 'identifiers', 'sedol']\n",
      "['aggregate', 'portfolios', 'closedLots', 'identifiers', 'isin']\n",
      "['aggregate', 'portfolios', 'closedLots', 'identifiers', 'ric']\n",
      "['aggregate', 'portfolios', 'closedLots', 'identifiers', 'clientId']\n",
      "['aggregate', 'portfolios', 'closedLots', 'purchaseDate']\n",
      "['aggregate', 'portfolios', 'closedLots', 'closedDate']\n",
      "['aggregate', 'portfolios', 'closedLots', 'realizedGainOrLoss']\n",
      "['aggregate', 'portfolios', 'benchmark', 'id']\n",
      "['aggregate', 'portfolios', 'benchmark', 'currency']\n",
      "['aggregate', 'portfolios', 'benchmark', 'components', 'id']\n",
      "['aggregate', 'portfolios', 'benchmark', 'components', 'identifiers', 'cusip']\n",
      "['aggregate', 'portfolios', 'benchmark', 'components', 'identifiers', 'sedol']\n",
      "['aggregate', 'portfolios', 'benchmark', 'components', 'identifiers', 'isin']\n",
      "['aggregate', 'portfolios', 'benchmark', 'components', 'identifiers', 'ric']\n",
      "['aggregate', 'portfolios', 'benchmark', 'components', 'identifiers', 'clientId']\n",
      "['aggregate', 'portfolios', 'benchmark', 'components', 'weight']\n",
      "['aggregate', 'portfolios', 'benchmarkRef', 'id']\n",
      "['aggregate', 'portfolios', 'benchmarkRef', 'tag']\n",
      "['aggregate', 'portfolios', 'supplement', 'sleeveInfo', 'tag']\n",
      "['aggregate', 'portfolios', 'supplement', 'sleeveInfo', 'value']\n",
      "['aggregate', 'portfolios', 'supplement', 'sleeveInfo', 'benchmark', 'id']\n",
      "['aggregate', 'portfolios', 'supplement', 'sleeveInfo', 'benchmark', 'currency']\n",
      "['aggregate', 'portfolios', 'supplement', 'sleeveInfo', 'benchmarkRef', 'id']\n",
      "['aggregate', 'portfolios', 'supplement', 'sleeveInfo', 'benchmarkRef', 'tag']\n",
      "['aggregate', 'portfolios', 'supplement', 'sleeveInfo', 'fees', 'category']\n",
      "['aggregate', 'portfolios', 'supplement', 'sleeveInfo', 'fees', 'subcategory']\n",
      "['aggregate', 'portfolios', 'supplement', 'sleeveInfo', 'fees', 'startYear']\n",
      "['aggregate', 'portfolios', 'supplement', 'sleeveInfo', 'fees', 'endYear']\n",
      "['aggregate', 'portfolios', 'supplement', 'sleeveInfo', 'fees', 'minimumPositionMarketValue']\n",
      "['aggregate', 'portfolios', 'supplement', 'sleeveInfo', 'fees', 'maximumPositionMarketValue']\n",
      "['aggregate', 'portfolios', 'supplement', 'sleeveInfo', 'fees', 'amount']\n",
      "['aggregate', 'portfolios', 'supplement', 'sleeveInfo', 'fees', 'paymentMethod']\n",
      "['aggregate', 'portfolios', 'supplement', 'sleeveInfo', 'fees', 'percentMethod']\n",
      "['aggregate', 'portfolios', 'supplement', 'sleeveInfo', 'fees', 'eventType']\n",
      "['aggregate', 'portfolios', 'origin']\n",
      "['aggregate', 'origin']\n",
      "['parameters', 'addCash']\n",
      "['parameters', 'useBuyList']\n",
      "['buyList', 'portfolioId']\n",
      "['buyList', 'positionId']\n",
      "['buyList', 'identifiers', 'cusip']\n",
      "['buyList', 'identifiers', 'sedol']\n",
      "['buyList', 'identifiers', 'isin']\n",
      "['buyList', 'identifiers', 'ric']\n",
      "['buyList', 'identifiers', 'clientId']\n",
      "['buyList', 'price']\n",
      "['sleeveTags']\n",
      "['simulatedPerformanceUserInputs', 'feeOverride']\n"
     ]
    }
   ],
   "source": [
    "for i,ele in enumerate(columns):\n",
    "#     print(type(ele))\n",
    "    temp = ele.split('__')\n",
    "    print(temp)"
   ]
  },
  {
   "cell_type": "code",
   "execution_count": 95,
   "id": "9502ecf7",
   "metadata": {},
   "outputs": [
    {
     "data": {
      "text/plain": [
       "{'id': 'yes',\n",
       " 'reason': 'yes',\n",
       " 'aggregate': [{'id': 'yes',\n",
       "   'tag': 'yes',\n",
       "   'currency': 'yes',\n",
       "   'benchmark': 'yes',\n",
       "   'benchmarkRef': 'yes',\n",
       "   'supplement': 'yes',\n",
       "   'portfolios': 'yes',\n",
       "   'origin': 'yes'}],\n",
       " 'parameters': [{'addCash': 'yes', 'useBuyList': 'yes'}],\n",
       " 'buyList': [{'portfolioId': 'yes',\n",
       "   'positionId': 'yes',\n",
       "   'identifiers': 'yes',\n",
       "   'price': 'yes'}],\n",
       " 'sleeveTags': 'yes',\n",
       " 'simulatedPerformanceUserInputs': [{'feeOverride': 'yes'}]}"
      ]
     },
     "execution_count": 95,
     "metadata": {},
     "output_type": "execute_result"
    }
   ],
   "source": [
    "json_dict"
   ]
  },
  {
   "cell_type": "code",
   "execution_count": null,
   "id": "b07e67c6",
   "metadata": {},
   "outputs": [],
   "source": []
  },
  {
   "cell_type": "code",
   "execution_count": null,
   "id": "eea3e6cf",
   "metadata": {},
   "outputs": [],
   "source": []
  },
  {
   "cell_type": "code",
   "execution_count": null,
   "id": "95df8625",
   "metadata": {},
   "outputs": [],
   "source": []
  },
  {
   "cell_type": "code",
   "execution_count": 44,
   "id": "4cfaab96",
   "metadata": {
    "scrolled": true
   },
   "outputs": [
    {
     "ename": "SyntaxError",
     "evalue": "invalid syntax (1895528113.py, line 5)",
     "output_type": "error",
     "traceback": [
      "\u001b[1;36m  File \u001b[1;32m\"C:\\Users\\local_Paritosh.Sharma\\Temp\\ipykernel_72880\\1895528113.py\"\u001b[1;36m, line \u001b[1;32m5\u001b[0m\n\u001b[1;33m    if\u001b[0m\n\u001b[1;37m      ^\u001b[0m\n\u001b[1;31mSyntaxError\u001b[0m\u001b[1;31m:\u001b[0m invalid syntax\n"
     ]
    }
   ],
   "source": [
    "for i,ele in enumerate(columns):\n",
    "#     print(type(ele))\n",
    "    temp = ele.split('__')\n",
    "    if(len(temp)>1):\n",
    "        "
   ]
  },
  {
   "cell_type": "code",
   "execution_count": 68,
   "id": "f5447eee",
   "metadata": {},
   "outputs": [
    {
     "data": {
      "text/plain": [
       "dict_keys(['taxSensitivity', 'federalLongTermTaxRate', 'federalShortTermTaxRate', 'stateTaxRate', 'cashRestriction', 'securityRestrictions', 'sectorRestrictions', 'shortTermRealizedGainBudgetAmount', 'longTermRealizedGainBudgetAmount', 'yearToDateShortTermRealizedGainLoss', 'yearToDateLongTermRealizedGainLoss'])"
      ]
     },
     "execution_count": 68,
     "metadata": {},
     "output_type": "execute_result"
    }
   ],
   "source": [
    "\n",
    "json_dict.keys()"
   ]
  },
  {
   "cell_type": "code",
   "execution_count": 66,
   "id": "4535592f",
   "metadata": {},
   "outputs": [
    {
     "data": {
      "text/plain": [
       "list"
      ]
     },
     "execution_count": 66,
     "metadata": {},
     "output_type": "execute_result"
    }
   ],
   "source": [
    "type(list(keys))"
   ]
  },
  {
   "cell_type": "code",
   "execution_count": 67,
   "id": "1e393b41",
   "metadata": {},
   "outputs": [
    {
     "data": {
      "text/plain": [
       "['taxSensitivity',\n",
       " 'federalLongTermTaxRate',\n",
       " 'federalShortTermTaxRate',\n",
       " 'stateTaxRate',\n",
       " 'cashRestriction',\n",
       " 'securityRestrictions',\n",
       " 'sectorRestrictions',\n",
       " 'shortTermRealizedGainBudgetAmount',\n",
       " 'longTermRealizedGainBudgetAmount',\n",
       " 'yearToDateShortTermRealizedGainLoss',\n",
       " 'yearToDateLongTermRealizedGainLoss']"
      ]
     },
     "execution_count": 67,
     "metadata": {},
     "output_type": "execute_result"
    }
   ],
   "source": [
    "list(keys)"
   ]
  },
  {
   "cell_type": "code",
   "execution_count": null,
   "id": "b7fa4e1c",
   "metadata": {},
   "outputs": [],
   "source": []
  },
  {
   "cell_type": "code",
   "execution_count": null,
   "id": "b9e7274d",
   "metadata": {},
   "outputs": [],
   "source": []
  },
  {
   "cell_type": "code",
   "execution_count": null,
   "id": "3f36f3d4",
   "metadata": {},
   "outputs": [],
   "source": []
  },
  {
   "cell_type": "code",
   "execution_count": null,
   "id": "f9e19d9d",
   "metadata": {},
   "outputs": [],
   "source": []
  },
  {
   "cell_type": "code",
   "execution_count": null,
   "id": "da53fb1b",
   "metadata": {},
   "outputs": [],
   "source": []
  },
  {
   "cell_type": "code",
   "execution_count": null,
   "id": "406f1b39",
   "metadata": {},
   "outputs": [],
   "source": []
  },
  {
   "cell_type": "code",
   "execution_count": null,
   "id": "0e29417f",
   "metadata": {},
   "outputs": [],
   "source": []
  },
  {
   "cell_type": "code",
   "execution_count": null,
   "id": "28142993",
   "metadata": {},
   "outputs": [],
   "source": []
  },
  {
   "cell_type": "code",
   "execution_count": null,
   "id": "8d7a6e58",
   "metadata": {},
   "outputs": [],
   "source": []
  },
  {
   "cell_type": "code",
   "execution_count": null,
   "id": "b0d74aa0",
   "metadata": {},
   "outputs": [],
   "source": []
  },
  {
   "cell_type": "code",
   "execution_count": null,
   "id": "ad65d04d",
   "metadata": {},
   "outputs": [],
   "source": []
  },
  {
   "cell_type": "code",
   "execution_count": null,
   "id": "7404e859",
   "metadata": {},
   "outputs": [],
   "source": []
  }
 ],
 "metadata": {
  "kernelspec": {
   "display_name": "Python 3 (ipykernel)",
   "language": "python",
   "name": "python3"
  },
  "language_info": {
   "codemirror_mode": {
    "name": "ipython",
    "version": 3
   },
   "file_extension": ".py",
   "mimetype": "text/x-python",
   "name": "python",
   "nbconvert_exporter": "python",
   "pygments_lexer": "ipython3",
   "version": "3.8.5"
  }
 },
 "nbformat": 4,
 "nbformat_minor": 5
}
