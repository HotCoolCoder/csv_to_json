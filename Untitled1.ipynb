{
 "cells": [
  {
   "cell_type": "code",
   "execution_count": 2,
   "id": "24b2d5d8",
   "metadata": {},
   "outputs": [],
   "source": [
    "import pandas as pd"
   ]
  },
  {
   "cell_type": "code",
   "execution_count": 12,
   "id": "f626e8be",
   "metadata": {},
   "outputs": [],
   "source": [
    "df = pd.read_csv('result (2).csv')"
   ]
  },
  {
   "cell_type": "code",
   "execution_count": 13,
   "id": "07bd72ca",
   "metadata": {},
   "outputs": [],
   "source": [
    "columns = df.columns"
   ]
  },
  {
   "cell_type": "code",
   "execution_count": null,
   "id": "f6b298b0",
   "metadata": {},
   "outputs": [],
   "source": [
    "json_data = {}\n",
    "key_validator = []"
   ]
  },
  {
   "cell_type": "code",
   "execution_count": null,
   "id": "0512b037",
   "metadata": {},
   "outputs": [],
   "source": [
    "for i,ele in enumerate(columns):\n",
    "    temp = ele.split('__')"
   ]
  },
  {
   "cell_type": "code",
   "execution_count": null,
   "id": "68788097",
   "metadata": {},
   "outputs": [],
   "source": [
    "def create_json():\n",
    "    for index,key enumerate(temp):\n",
    "        check_list = [].append(key)\n",
    "        if check_list not in columns:\n",
    "            columns = [].append(check_list)\n",
    "            temp_dict = {}\n",
    "            for create_key in check_list:\n",
    "                temp_dict = json_dict[create_key] #here create an entry in the dictionary"
   ]
  },
  {
   "cell_type": "code",
   "execution_count": 14,
   "id": "483e732f",
   "metadata": {},
   "outputs": [
    {
     "name": "stdout",
     "output_type": "stream",
     "text": [
      "['taxSensitivity']\n",
      "['federalLongTermTaxRate']\n",
      "['federalShortTermTaxRate']\n",
      "['stateTaxRate']\n",
      "['cashRestriction']\n",
      "['securityRestrictions', 'cusip']\n",
      "['securityRestrictions', 'ticker']\n",
      "['securityRestrictions', 'description']\n",
      "['securityRestrictions', 'securityRestrictionType']\n",
      "['sectorRestrictions', 'gicsSubIndustryCode']\n",
      "['sectorRestrictions', 'gicsSubIndustryDescription']\n",
      "['shortTermRealizedGainBudgetAmount']\n",
      "['longTermRealizedGainBudgetAmount']\n",
      "['yearToDateShortTermRealizedGainLoss']\n",
      "['yearToDateLongTermRealizedGainLoss']\n"
     ]
    }
   ],
   "source": [
    "for i,ele in enumerate(columns):\n",
    "    temp = ele.split('__')\n",
    "    print(temp)"
   ]
  },
  {
   "cell_type": "code",
   "execution_count": 32,
   "id": "08923d00",
   "metadata": {},
   "outputs": [
    {
     "name": "stdout",
     "output_type": "stream",
     "text": [
      "['securityRestrictions']\n",
      "['securityRestrictions', 'sectorRestrictions']\n"
     ]
    }
   ],
   "source": [
    "json_dict = {}\n",
    "key_validators = []\n",
    "for i,ele in enumerate(list(l[0].keys())):\n",
    "    temp = ele.split('__')\n",
    "    if(len(temp)==1):\n",
    "        json_dict[ele] = values[i]\n",
    "    else:\n",
    "#         json_dict[temp[0]]\n",
    "        if temp[0] not in key_validators:\n",
    "            key_validators.append(temp[0])\n",
    "            print(key_validators)\n",
    "            json_dict[temp[0]] = [{temp[1]: values[i]}]\n",
    "        else:\n",
    "#             json_dict[temp[0]].append(json_dict[temp[0]][0].update({temp[1] : 'yes'}))\n",
    "            json_dict[temp[0]][0].update({temp[1] : values[i]})"
   ]
  },
  {
   "cell_type": "code",
   "execution_count": 33,
   "id": "0cd90a14",
   "metadata": {},
   "outputs": [
    {
     "data": {
      "text/plain": [
       "{'taxSensitivity': 'veryhigh',\n",
       " 'federalLongTermTaxRate': 0.0,\n",
       " 'federalShortTermTaxRate': 0.1,\n",
       " 'stateTaxRate': 0.2,\n",
       " 'cashRestriction': 0.1,\n",
       " 'securityRestrictions': [{'cusip': 37833100,\n",
       "   'ticker': 'AAPL',\n",
       "   'description': 'Apple Inc.',\n",
       "   'securityRestrictionType': 'SellAllExisting'}],\n",
       " 'sectorRestrictions': [{'gicsSubIndustryCode': 10010101,\n",
       "   'gicsSubIndustryDescription': 'Oil & Gas Drilling'}],\n",
       " 'shortTermRealizedGainBudgetAmount': 0.1,\n",
       " 'longTermRealizedGainBudgetAmount': 1000.0,\n",
       " 'yearToDateShortTermRealizedGainLoss': 0.0,\n",
       " 'yearToDateLongTermRealizedGainLoss': 0.0}"
      ]
     },
     "execution_count": 33,
     "metadata": {},
     "output_type": "execute_result"
    }
   ],
   "source": [
    "json_dict"
   ]
  },
  {
   "cell_type": "code",
   "execution_count": 18,
   "id": "1fe2cc9f",
   "metadata": {},
   "outputs": [],
   "source": [
    "df = df.iloc[:1,:]"
   ]
  },
  {
   "cell_type": "code",
   "execution_count": 22,
   "id": "0165c98f",
   "metadata": {},
   "outputs": [],
   "source": [
    "l = df.to_dict('records')"
   ]
  },
  {
   "cell_type": "code",
   "execution_count": 23,
   "id": "53a1aafb",
   "metadata": {},
   "outputs": [
    {
     "data": {
      "text/plain": [
       "[{'taxSensitivity': 'veryhigh',\n",
       "  'federalLongTermTaxRate': 0.0,\n",
       "  'federalShortTermTaxRate': 0.1,\n",
       "  'stateTaxRate': 0.2,\n",
       "  'cashRestriction': 0.1,\n",
       "  'securityRestrictions__cusip': 37833100,\n",
       "  'securityRestrictions__ticker': 'AAPL',\n",
       "  'securityRestrictions__description': 'Apple Inc.',\n",
       "  'securityRestrictions__securityRestrictionType': 'SellAllExisting',\n",
       "  'sectorRestrictions__gicsSubIndustryCode': 10010101,\n",
       "  'sectorRestrictions__gicsSubIndustryDescription': 'Oil & Gas Drilling',\n",
       "  'shortTermRealizedGainBudgetAmount': 0.1,\n",
       "  'longTermRealizedGainBudgetAmount': 1000.0,\n",
       "  'yearToDateShortTermRealizedGainLoss': 0.0,\n",
       "  'yearToDateLongTermRealizedGainLoss': 0.0}]"
      ]
     },
     "execution_count": 23,
     "metadata": {},
     "output_type": "execute_result"
    }
   ],
   "source": [
    "l"
   ]
  },
  {
   "cell_type": "code",
   "execution_count": 26,
   "id": "10e40641",
   "metadata": {},
   "outputs": [
    {
     "data": {
      "text/plain": [
       "['taxSensitivity',\n",
       " 'federalLongTermTaxRate',\n",
       " 'federalShortTermTaxRate',\n",
       " 'stateTaxRate',\n",
       " 'cashRestriction',\n",
       " 'securityRestrictions__cusip',\n",
       " 'securityRestrictions__ticker',\n",
       " 'securityRestrictions__description',\n",
       " 'securityRestrictions__securityRestrictionType',\n",
       " 'sectorRestrictions__gicsSubIndustryCode',\n",
       " 'sectorRestrictions__gicsSubIndustryDescription',\n",
       " 'shortTermRealizedGainBudgetAmount',\n",
       " 'longTermRealizedGainBudgetAmount',\n",
       " 'yearToDateShortTermRealizedGainLoss',\n",
       " 'yearToDateLongTermRealizedGainLoss']"
      ]
     },
     "execution_count": 26,
     "metadata": {},
     "output_type": "execute_result"
    }
   ],
   "source": [
    "list(l[0].keys())"
   ]
  },
  {
   "cell_type": "code",
   "execution_count": 29,
   "id": "f1c27ddd",
   "metadata": {},
   "outputs": [],
   "source": [
    "values = list(l[0].values())"
   ]
  },
  {
   "cell_type": "code",
   "execution_count": 30,
   "id": "2a2473f5",
   "metadata": {},
   "outputs": [
    {
     "data": {
      "text/plain": [
       "['veryhigh',\n",
       " 0.0,\n",
       " 0.1,\n",
       " 0.2,\n",
       " 0.1,\n",
       " 37833100,\n",
       " 'AAPL',\n",
       " 'Apple Inc.',\n",
       " 'SellAllExisting',\n",
       " 10010101,\n",
       " 'Oil & Gas Drilling',\n",
       " 0.1,\n",
       " 1000.0,\n",
       " 0.0,\n",
       " 0.0]"
      ]
     },
     "execution_count": 30,
     "metadata": {},
     "output_type": "execute_result"
    }
   ],
   "source": [
    "values"
   ]
  },
  {
   "cell_type": "code",
   "execution_count": null,
   "id": "49c3b916",
   "metadata": {},
   "outputs": [],
   "source": []
  },
  {
   "cell_type": "code",
   "execution_count": null,
   "id": "7b735251",
   "metadata": {},
   "outputs": [],
   "source": []
  },
  {
   "cell_type": "code",
   "execution_count": null,
   "id": "c8a12ed8",
   "metadata": {},
   "outputs": [],
   "source": []
  },
  {
   "cell_type": "code",
   "execution_count": null,
   "id": "9d2703fa",
   "metadata": {},
   "outputs": [],
   "source": []
  }
 ],
 "metadata": {
  "kernelspec": {
   "display_name": "Python 3 (ipykernel)",
   "language": "python",
   "name": "python3"
  },
  "language_info": {
   "codemirror_mode": {
    "name": "ipython",
    "version": 3
   },
   "file_extension": ".py",
   "mimetype": "text/x-python",
   "name": "python",
   "nbconvert_exporter": "python",
   "pygments_lexer": "ipython3",
   "version": "3.9.13"
  }
 },
 "nbformat": 4,
 "nbformat_minor": 5
}
